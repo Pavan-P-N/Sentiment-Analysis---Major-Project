{
  "nbformat": 4,
  "nbformat_minor": 0,
  "metadata": {
    "colab": {
      "name": "Sentiment-Analysis- Major-Project.ipynb",
      "provenance": [],
      "collapsed_sections": [],
      "include_colab_link": true
    },
    "kernelspec": {
      "name": "python3",
      "display_name": "Python 3"
    }
  },
  "cells": [
    {
      "cell_type": "markdown",
      "metadata": {
        "id": "view-in-github",
        "colab_type": "text"
      },
      "source": [
        "<a href=\"https://colab.research.google.com/github/Pavan-P-N/Sentiment-Analysis---Major-Project/blob/main/Sentiment_Analysis_Major_Project.ipynb\" target=\"_parent\"><img src=\"https://colab.research.google.com/assets/colab-badge.svg\" alt=\"Open In Colab\"/></a>"
      ]
    },
    {
      "cell_type": "code",
      "metadata": {
        "id": "VqRH3Z5YyCW_",
        "outputId": "afc9394b-a875-4831-f244-a6117f2d201f",
        "colab": {
          "base_uri": "https://localhost:8080/"
        }
      },
      "source": [
        "%%writefile app.py\r\n",
        "import streamlit as st\r\n",
        "st.title('Sentiment Analysis using Python')\r\n",
        "import pandas as pd\r\n",
        "df = pd.read_csv('Re_Data.csv')\r\n",
        "df = df.iloc[0:5000]\r\n",
        "import numpy as np\r\n",
        "df = df.replace(np.nan, ' ', regex=True)\r\n",
        "import string\r\n",
        "df['clean_comment'] = df['clean_comment'].str.replace('[^\\w\\s]','')\r\n",
        "df.clean_comment = df.clean_comment.str.replace('\\d+', '')\r\n",
        "import nltk\r\n",
        "nltk.download('punkt')\r\n",
        "nltk.download('wordnet')\r\n",
        "from nltk.stem.snowball import PorterStemmer\r\n",
        "ps = PorterStemmer()\r\n",
        "for i in range(0, len(df)):\r\n",
        "  df.clean_comment[i] = ps.stem(df.clean_comment[i]) # for word in df.clean_comment[i]]\r\n",
        "x = df['category'].values\r\n",
        "y = df['clean_comment'].values\r\n",
        "from sklearn.model_selection import train_test_split\r\n",
        "x_train,x_test,y_train,y_test = train_test_split(x,y,test_size = 0.3, random_state = 0)\r\n",
        "import numpy as np\r\n",
        "np.unique(y_train,return_counts=True)\r\n",
        "np.unique(y_test,return_counts=True)\r\n",
        "from sklearn.pipeline import Pipeline\r\n",
        "from sklearn.feature_extraction.text import TfidfVectorizer\r\n",
        "from sklearn.svm import SVC\r\n",
        "text_model = Pipeline([('tfidf',TfidfVectorizer()),('model',SVC())]) \r\n",
        "text_model.fit(x_train, y_train)\r\n",
        "y_pred = text_model.predict(x_test)\r\n",
        "from sklearn.metrics import accuracy_score,classification_report,confusion_matrix\r\n",
        "select = st.text_input('Enter your message')\r\n",
        "op = text_model.predict([select])\r\n",
        "st.title(op[0])"
      ],
      "execution_count": 22,
      "outputs": [
        {
          "output_type": "stream",
          "text": [
            "Overwriting app.py\n"
          ],
          "name": "stdout"
        }
      ]
    }
  ]
}